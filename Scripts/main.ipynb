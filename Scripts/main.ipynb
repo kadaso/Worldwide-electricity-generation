{
 "cells": [
  {
   "cell_type": "markdown",
   "id": "7dc50203-546c-47be-8183-c6047e6f269c",
   "metadata": {},
   "source": [
    "# 1. COAL"
   ]
  },
  {
   "cell_type": "markdown",
   "id": "a1601433-d002-4980-8a3d-defdda62d622",
   "metadata": {},
   "source": [
    "## 1.1 Coal: Introduction"
   ]
  },
  {
   "cell_type": "markdown",
   "id": "0f34fcc1-aaa5-49ed-8bc1-68b3d43fcf2e",
   "metadata": {},
   "source": [
    "Import packages"
   ]
  },
  {
   "cell_type": "code",
   "execution_count": 1,
   "id": "7aa5db22-65c6-45d0-8452-09cb1023809f",
   "metadata": {},
   "outputs": [],
   "source": [
    "import numpy as np                                     # Basis for scientific computing in Python\n",
    "import pandas as pd                                    # Crucial for data processing and analysis\n",
    "import matplotlib.pyplot as plt                        # For visualization of data\n",
    "\n",
    "%matplotlib inline"
   ]
  },
  {
   "cell_type": "markdown",
   "id": "abda083b-f477-4371-92a2-813ca9cd077e",
   "metadata": {
    "tags": []
   },
   "source": [
    "## 1.2 Coal: Load Data"
   ]
  },
  {
   "cell_type": "code",
   "execution_count": 2,
   "id": "c3593cd7-a4ca-4071-8888-f9c831894e7c",
   "metadata": {},
   "outputs": [
    {
     "name": "stdout",
     "output_type": "stream",
     "text": [
      "<class 'pandas.core.frame.DataFrame'>\n",
      "RangeIndex: 266 entries, 0 to 265\n",
      "Data columns (total 66 columns):\n",
      " #   Column          Non-Null Count  Dtype  \n",
      "---  ------          --------------  -----  \n",
      " 0   Country Name    266 non-null    object \n",
      " 1   Country Code    266 non-null    object \n",
      " 2   Indicator Name  266 non-null    object \n",
      " 3   Indicator Code  266 non-null    object \n",
      " 4   1960            31 non-null     float64\n",
      " 5   1961            31 non-null     float64\n",
      " 6   1962            31 non-null     float64\n",
      " 7   1963            31 non-null     float64\n",
      " 8   1964            31 non-null     float64\n",
      " 9   1965            32 non-null     float64\n",
      " 10  1966            32 non-null     float64\n",
      " 11  1967            32 non-null     float64\n",
      " 12  1968            32 non-null     float64\n",
      " 13  1969            32 non-null     float64\n",
      " 14  1970            32 non-null     float64\n",
      " 15  1971            155 non-null    float64\n",
      " 16  1972            155 non-null    float64\n",
      " 17  1973            156 non-null    float64\n",
      " 18  1974            156 non-null    float64\n",
      " 19  1975            156 non-null    float64\n",
      " 20  1976            156 non-null    float64\n",
      " 21  1977            156 non-null    float64\n",
      " 22  1978            156 non-null    float64\n",
      " 23  1979            156 non-null    float64\n",
      " 24  1980            156 non-null    float64\n",
      " 25  1981            157 non-null    float64\n",
      " 26  1982            157 non-null    float64\n",
      " 27  1983            157 non-null    float64\n",
      " 28  1984            157 non-null    float64\n",
      " 29  1985            158 non-null    float64\n",
      " 30  1986            158 non-null    float64\n",
      " 31  1987            158 non-null    float64\n",
      " 32  1988            158 non-null    float64\n",
      " 33  1989            158 non-null    float64\n",
      " 34  1990            179 non-null    float64\n",
      " 35  1991            180 non-null    float64\n",
      " 36  1992            181 non-null    float64\n",
      " 37  1993            181 non-null    float64\n",
      " 38  1994            181 non-null    float64\n",
      " 39  1995            182 non-null    float64\n",
      " 40  1996            182 non-null    float64\n",
      " 41  1997            182 non-null    float64\n",
      " 42  1998            182 non-null    float64\n",
      " 43  1999            182 non-null    float64\n",
      " 44  2000            185 non-null    float64\n",
      " 45  2001            185 non-null    float64\n",
      " 46  2002            185 non-null    float64\n",
      " 47  2003            185 non-null    float64\n",
      " 48  2004            185 non-null    float64\n",
      " 49  2005            186 non-null    float64\n",
      " 50  2006            186 non-null    float64\n",
      " 51  2007            186 non-null    float64\n",
      " 52  2008            186 non-null    float64\n",
      " 53  2009            186 non-null    float64\n",
      " 54  2010            186 non-null    float64\n",
      " 55  2011            186 non-null    float64\n",
      " 56  2012            187 non-null    float64\n",
      " 57  2013            187 non-null    float64\n",
      " 58  2014            187 non-null    float64\n",
      " 59  2015            187 non-null    float64\n",
      " 60  2016            0 non-null      float64\n",
      " 61  2017            0 non-null      float64\n",
      " 62  2018            0 non-null      float64\n",
      " 63  2019            0 non-null      float64\n",
      " 64  2020            0 non-null      float64\n",
      " 65  Unnamed: 65     0 non-null      float64\n",
      "dtypes: float64(62), object(4)\n",
      "memory usage: 137.3+ KB\n"
     ]
    }
   ],
   "source": [
    "# Load coal dataset\n",
    "\n",
    "# The first four (4) rows will be skipped since they confuse pandas when loading the dataset\n",
    "coal = pd.read_csv(r\"..\\Datasets\\coal.csv\", skiprows=3)\n",
    "\n",
    "coal.info()"
   ]
  },
  {
   "cell_type": "markdown",
   "id": "a52b8fd6-eaa9-4e36-84f6-95fced585796",
   "metadata": {},
   "source": [
    "In the previous cell, it has been observed that the years 1960 through 1970 have negligibly small amount of data compared to the years 1971 to 2015. Additionally, there were no data collected since 2016. Hence, these columns will be deleted from the dataframe."
   ]
  },
  {
   "cell_type": "code",
   "execution_count": 3,
   "id": "b84e7791-760d-47bd-802b-399cd4eb0f1f",
   "metadata": {},
   "outputs": [
    {
     "name": "stdout",
     "output_type": "stream",
     "text": [
      "<class 'pandas.core.frame.DataFrame'>\n",
      "RangeIndex: 266 entries, 0 to 265\n",
      "Data columns (total 49 columns):\n",
      " #   Column          Non-Null Count  Dtype  \n",
      "---  ------          --------------  -----  \n",
      " 0   Country Name    266 non-null    object \n",
      " 1   Country Code    266 non-null    object \n",
      " 2   Indicator Name  266 non-null    object \n",
      " 3   Indicator Code  266 non-null    object \n",
      " 4   1971            155 non-null    float64\n",
      " 5   1972            155 non-null    float64\n",
      " 6   1973            156 non-null    float64\n",
      " 7   1974            156 non-null    float64\n",
      " 8   1975            156 non-null    float64\n",
      " 9   1976            156 non-null    float64\n",
      " 10  1977            156 non-null    float64\n",
      " 11  1978            156 non-null    float64\n",
      " 12  1979            156 non-null    float64\n",
      " 13  1980            156 non-null    float64\n",
      " 14  1981            157 non-null    float64\n",
      " 15  1982            157 non-null    float64\n",
      " 16  1983            157 non-null    float64\n",
      " 17  1984            157 non-null    float64\n",
      " 18  1985            158 non-null    float64\n",
      " 19  1986            158 non-null    float64\n",
      " 20  1987            158 non-null    float64\n",
      " 21  1988            158 non-null    float64\n",
      " 22  1989            158 non-null    float64\n",
      " 23  1990            179 non-null    float64\n",
      " 24  1991            180 non-null    float64\n",
      " 25  1992            181 non-null    float64\n",
      " 26  1993            181 non-null    float64\n",
      " 27  1994            181 non-null    float64\n",
      " 28  1995            182 non-null    float64\n",
      " 29  1996            182 non-null    float64\n",
      " 30  1997            182 non-null    float64\n",
      " 31  1998            182 non-null    float64\n",
      " 32  1999            182 non-null    float64\n",
      " 33  2000            185 non-null    float64\n",
      " 34  2001            185 non-null    float64\n",
      " 35  2002            185 non-null    float64\n",
      " 36  2003            185 non-null    float64\n",
      " 37  2004            185 non-null    float64\n",
      " 38  2005            186 non-null    float64\n",
      " 39  2006            186 non-null    float64\n",
      " 40  2007            186 non-null    float64\n",
      " 41  2008            186 non-null    float64\n",
      " 42  2009            186 non-null    float64\n",
      " 43  2010            186 non-null    float64\n",
      " 44  2011            186 non-null    float64\n",
      " 45  2012            187 non-null    float64\n",
      " 46  2013            187 non-null    float64\n",
      " 47  2014            187 non-null    float64\n",
      " 48  2015            187 non-null    float64\n",
      "dtypes: float64(45), object(4)\n",
      "memory usage: 102.0+ KB\n"
     ]
    }
   ],
   "source": [
    "# Delete columns with at least 33 null values\n",
    "coal.dropna(thresh=33, axis=1, inplace=True)\n",
    "\n",
    "coal.info()"
   ]
  },
  {
   "cell_type": "markdown",
   "id": "0c13fed6-6fba-47ba-a33c-05c617e8cd8f",
   "metadata": {},
   "source": [
    "The second and third rows in the coal dataframe will not be used during data analysis, hence, they will be dropped."
   ]
  },
  {
   "cell_type": "code",
   "execution_count": 4,
   "id": "8b068b55-2aff-41ed-9427-bb116e49183a",
   "metadata": {},
   "outputs": [
    {
     "name": "stdout",
     "output_type": "stream",
     "text": [
      "<class 'pandas.core.frame.DataFrame'>\n",
      "RangeIndex: 266 entries, 0 to 265\n",
      "Data columns (total 46 columns):\n",
      " #   Column        Non-Null Count  Dtype  \n",
      "---  ------        --------------  -----  \n",
      " 0   Country Name  266 non-null    object \n",
      " 1   1971          155 non-null    float64\n",
      " 2   1972          155 non-null    float64\n",
      " 3   1973          156 non-null    float64\n",
      " 4   1974          156 non-null    float64\n",
      " 5   1975          156 non-null    float64\n",
      " 6   1976          156 non-null    float64\n",
      " 7   1977          156 non-null    float64\n",
      " 8   1978          156 non-null    float64\n",
      " 9   1979          156 non-null    float64\n",
      " 10  1980          156 non-null    float64\n",
      " 11  1981          157 non-null    float64\n",
      " 12  1982          157 non-null    float64\n",
      " 13  1983          157 non-null    float64\n",
      " 14  1984          157 non-null    float64\n",
      " 15  1985          158 non-null    float64\n",
      " 16  1986          158 non-null    float64\n",
      " 17  1987          158 non-null    float64\n",
      " 18  1988          158 non-null    float64\n",
      " 19  1989          158 non-null    float64\n",
      " 20  1990          179 non-null    float64\n",
      " 21  1991          180 non-null    float64\n",
      " 22  1992          181 non-null    float64\n",
      " 23  1993          181 non-null    float64\n",
      " 24  1994          181 non-null    float64\n",
      " 25  1995          182 non-null    float64\n",
      " 26  1996          182 non-null    float64\n",
      " 27  1997          182 non-null    float64\n",
      " 28  1998          182 non-null    float64\n",
      " 29  1999          182 non-null    float64\n",
      " 30  2000          185 non-null    float64\n",
      " 31  2001          185 non-null    float64\n",
      " 32  2002          185 non-null    float64\n",
      " 33  2003          185 non-null    float64\n",
      " 34  2004          185 non-null    float64\n",
      " 35  2005          186 non-null    float64\n",
      " 36  2006          186 non-null    float64\n",
      " 37  2007          186 non-null    float64\n",
      " 38  2008          186 non-null    float64\n",
      " 39  2009          186 non-null    float64\n",
      " 40  2010          186 non-null    float64\n",
      " 41  2011          186 non-null    float64\n",
      " 42  2012          187 non-null    float64\n",
      " 43  2013          187 non-null    float64\n",
      " 44  2014          187 non-null    float64\n",
      " 45  2015          187 non-null    float64\n",
      "dtypes: float64(45), object(1)\n",
      "memory usage: 95.7+ KB\n"
     ]
    }
   ],
   "source": [
    "# Delete columns \"Indicator Name\" and \"Indicator Code\" from the dataframe\n",
    "coal.drop([\"Indicator Name\", \"Indicator Code\", \"Country Code\"], axis=1, inplace=True)\n",
    "\n",
    "coal.info()"
   ]
  },
  {
   "cell_type": "markdown",
   "id": "a5a6a32e-5977-4fb8-89b4-22b56d73888b",
   "metadata": {},
   "source": [
    "In the previous cell, it has been shown that the coal dataframe has 266 observations (i.e.,rows) and 46 columns."
   ]
  },
  {
   "cell_type": "code",
   "execution_count": 5,
   "id": "4f434295-cc5f-4816-9bf9-929aa0abfebe",
   "metadata": {},
   "outputs": [
    {
     "name": "stdout",
     "output_type": "stream",
     "text": [
      "There are 0 duplicated rows.\n"
     ]
    }
   ],
   "source": [
    "# Check for any duplicate observations (i.e., rows)\n",
    "num_duplicates = coal.duplicated(\"Country Name\").sum()\n",
    "\n",
    "print(f\"There are {num_duplicates} duplicated rows.\")"
   ]
  },
  {
   "cell_type": "code",
   "execution_count": 6,
   "id": "40ab1b10-3458-4087-bd65-e567082fd4de",
   "metadata": {},
   "outputs": [],
   "source": [
    "coal.sort_values(by=\"Country Name\", inplace=True)"
   ]
  },
  {
   "cell_type": "code",
   "execution_count": 7,
   "id": "40f8d07a-f8f6-4c6f-a82e-944f2ac18539",
   "metadata": {},
   "outputs": [],
   "source": [
    "coal.fillna(value=0, inplace=True)"
   ]
  },
  {
   "cell_type": "code",
   "execution_count": 8,
   "id": "51e6f2cb-20f6-4d86-a6cc-4faabb9dacb3",
   "metadata": {},
   "outputs": [
    {
     "data": {
      "text/html": [
       "<div>\n",
       "<style scoped>\n",
       "    .dataframe tbody tr th:only-of-type {\n",
       "        vertical-align: middle;\n",
       "    }\n",
       "\n",
       "    .dataframe tbody tr th {\n",
       "        vertical-align: top;\n",
       "    }\n",
       "\n",
       "    .dataframe thead th {\n",
       "        text-align: right;\n",
       "    }\n",
       "</style>\n",
       "<table border=\"1\" class=\"dataframe\">\n",
       "  <thead>\n",
       "    <tr style=\"text-align: right;\">\n",
       "      <th></th>\n",
       "      <th>Country Name</th>\n",
       "      <th>1971</th>\n",
       "      <th>1972</th>\n",
       "      <th>1973</th>\n",
       "      <th>1974</th>\n",
       "      <th>1975</th>\n",
       "      <th>1976</th>\n",
       "      <th>1977</th>\n",
       "      <th>1978</th>\n",
       "      <th>1979</th>\n",
       "      <th>...</th>\n",
       "      <th>2006</th>\n",
       "      <th>2007</th>\n",
       "      <th>2008</th>\n",
       "      <th>2009</th>\n",
       "      <th>2010</th>\n",
       "      <th>2011</th>\n",
       "      <th>2012</th>\n",
       "      <th>2013</th>\n",
       "      <th>2014</th>\n",
       "      <th>2015</th>\n",
       "    </tr>\n",
       "  </thead>\n",
       "  <tbody>\n",
       "    <tr>\n",
       "      <th>2</th>\n",
       "      <td>Afghanistan</td>\n",
       "      <td>0.000000</td>\n",
       "      <td>0.000000</td>\n",
       "      <td>0.000000</td>\n",
       "      <td>0.000000</td>\n",
       "      <td>0.000000</td>\n",
       "      <td>0.000000</td>\n",
       "      <td>0.000000</td>\n",
       "      <td>0.000000</td>\n",
       "      <td>0.000000</td>\n",
       "      <td>...</td>\n",
       "      <td>0.000000</td>\n",
       "      <td>0.000000</td>\n",
       "      <td>0.000000</td>\n",
       "      <td>0.000000</td>\n",
       "      <td>0.000000</td>\n",
       "      <td>0.000000</td>\n",
       "      <td>0.000000</td>\n",
       "      <td>0.000000</td>\n",
       "      <td>0.000000</td>\n",
       "      <td>0.000000</td>\n",
       "    </tr>\n",
       "    <tr>\n",
       "      <th>1</th>\n",
       "      <td>Africa Eastern and Southern</td>\n",
       "      <td>75.870771</td>\n",
       "      <td>72.115455</td>\n",
       "      <td>72.874444</td>\n",
       "      <td>70.129461</td>\n",
       "      <td>70.477232</td>\n",
       "      <td>69.666730</td>\n",
       "      <td>68.354139</td>\n",
       "      <td>69.787167</td>\n",
       "      <td>70.367245</td>\n",
       "      <td>...</td>\n",
       "      <td>70.069933</td>\n",
       "      <td>69.884938</td>\n",
       "      <td>69.087237</td>\n",
       "      <td>67.455296</td>\n",
       "      <td>67.284425</td>\n",
       "      <td>66.506292</td>\n",
       "      <td>66.159005</td>\n",
       "      <td>64.468711</td>\n",
       "      <td>62.302325</td>\n",
       "      <td>61.204323</td>\n",
       "    </tr>\n",
       "    <tr>\n",
       "      <th>3</th>\n",
       "      <td>Africa Western and Central</td>\n",
       "      <td>0.000000</td>\n",
       "      <td>0.010587</td>\n",
       "      <td>0.000000</td>\n",
       "      <td>0.481303</td>\n",
       "      <td>0.411631</td>\n",
       "      <td>0.402882</td>\n",
       "      <td>0.366329</td>\n",
       "      <td>0.000000</td>\n",
       "      <td>0.000000</td>\n",
       "      <td>...</td>\n",
       "      <td>0.307259</td>\n",
       "      <td>0.286817</td>\n",
       "      <td>0.324389</td>\n",
       "      <td>0.355609</td>\n",
       "      <td>0.323383</td>\n",
       "      <td>0.388457</td>\n",
       "      <td>0.367485</td>\n",
       "      <td>0.327521</td>\n",
       "      <td>0.326377</td>\n",
       "      <td>0.287308</td>\n",
       "    </tr>\n",
       "    <tr>\n",
       "      <th>5</th>\n",
       "      <td>Albania</td>\n",
       "      <td>0.000000</td>\n",
       "      <td>0.000000</td>\n",
       "      <td>0.000000</td>\n",
       "      <td>0.000000</td>\n",
       "      <td>0.000000</td>\n",
       "      <td>0.000000</td>\n",
       "      <td>0.000000</td>\n",
       "      <td>0.000000</td>\n",
       "      <td>0.000000</td>\n",
       "      <td>...</td>\n",
       "      <td>0.000000</td>\n",
       "      <td>0.000000</td>\n",
       "      <td>0.000000</td>\n",
       "      <td>0.000000</td>\n",
       "      <td>0.000000</td>\n",
       "      <td>0.000000</td>\n",
       "      <td>0.000000</td>\n",
       "      <td>0.000000</td>\n",
       "      <td>0.000000</td>\n",
       "      <td>0.000000</td>\n",
       "    </tr>\n",
       "    <tr>\n",
       "      <th>60</th>\n",
       "      <td>Algeria</td>\n",
       "      <td>0.000000</td>\n",
       "      <td>0.000000</td>\n",
       "      <td>0.000000</td>\n",
       "      <td>0.000000</td>\n",
       "      <td>0.000000</td>\n",
       "      <td>0.000000</td>\n",
       "      <td>0.000000</td>\n",
       "      <td>0.000000</td>\n",
       "      <td>0.000000</td>\n",
       "      <td>...</td>\n",
       "      <td>0.000000</td>\n",
       "      <td>0.000000</td>\n",
       "      <td>0.000000</td>\n",
       "      <td>0.000000</td>\n",
       "      <td>0.000000</td>\n",
       "      <td>0.000000</td>\n",
       "      <td>0.000000</td>\n",
       "      <td>0.000000</td>\n",
       "      <td>0.000000</td>\n",
       "      <td>0.000000</td>\n",
       "    </tr>\n",
       "  </tbody>\n",
       "</table>\n",
       "<p>5 rows × 46 columns</p>\n",
       "</div>"
      ],
      "text/plain": [
       "                   Country Name       1971       1972       1973       1974  \\\n",
       "2                   Afghanistan   0.000000   0.000000   0.000000   0.000000   \n",
       "1   Africa Eastern and Southern  75.870771  72.115455  72.874444  70.129461   \n",
       "3    Africa Western and Central   0.000000   0.010587   0.000000   0.481303   \n",
       "5                       Albania   0.000000   0.000000   0.000000   0.000000   \n",
       "60                      Algeria   0.000000   0.000000   0.000000   0.000000   \n",
       "\n",
       "         1975       1976       1977       1978       1979  ...       2006  \\\n",
       "2    0.000000   0.000000   0.000000   0.000000   0.000000  ...   0.000000   \n",
       "1   70.477232  69.666730  68.354139  69.787167  70.367245  ...  70.069933   \n",
       "3    0.411631   0.402882   0.366329   0.000000   0.000000  ...   0.307259   \n",
       "5    0.000000   0.000000   0.000000   0.000000   0.000000  ...   0.000000   \n",
       "60   0.000000   0.000000   0.000000   0.000000   0.000000  ...   0.000000   \n",
       "\n",
       "         2007       2008       2009       2010       2011       2012  \\\n",
       "2    0.000000   0.000000   0.000000   0.000000   0.000000   0.000000   \n",
       "1   69.884938  69.087237  67.455296  67.284425  66.506292  66.159005   \n",
       "3    0.286817   0.324389   0.355609   0.323383   0.388457   0.367485   \n",
       "5    0.000000   0.000000   0.000000   0.000000   0.000000   0.000000   \n",
       "60   0.000000   0.000000   0.000000   0.000000   0.000000   0.000000   \n",
       "\n",
       "         2013       2014       2015  \n",
       "2    0.000000   0.000000   0.000000  \n",
       "1   64.468711  62.302325  61.204323  \n",
       "3    0.327521   0.326377   0.287308  \n",
       "5    0.000000   0.000000   0.000000  \n",
       "60   0.000000   0.000000   0.000000  \n",
       "\n",
       "[5 rows x 46 columns]"
      ]
     },
     "execution_count": 8,
     "metadata": {},
     "output_type": "execute_result"
    }
   ],
   "source": [
    "coal.head()"
   ]
  },
  {
   "cell_type": "markdown",
   "id": "17d9aaba-926f-4980-b5e5-56a1f5f1c92e",
   "metadata": {},
   "source": [
    "## 1.3 Coal: Exploratory Data Analysis"
   ]
  },
  {
   "cell_type": "markdown",
   "id": "4c207918-9035-4b68-90b8-05fe3b9592af",
   "metadata": {},
   "source": [
    "Firstly, world-wide average electricity production from coal sources over the years (1971 through 2015) is analysed in the next cell."
   ]
  },
  {
   "cell_type": "code",
   "execution_count": 9,
   "id": "4ab0bd28-5430-498e-9577-db1962ec330a",
   "metadata": {},
   "outputs": [
    {
     "data": {
      "text/plain": [
       "<AxesSubplot:title={'center':'Yearly average electricity production from coal sources'}, xlabel='Year', ylabel='Mean electricity production from coal sources (% of total)'>"
      ]
     },
     "execution_count": 9,
     "metadata": {},
     "output_type": "execute_result"
    },
    {
     "data": {
      "image/png": "[encoded data removed]",
      "text/plain": [
       "<Figure size 1080x432 with 1 Axes>"
      ]
     },
     "metadata": {
      "needs_background": "light"
     },
     "output_type": "display_data"
    }
   ],
   "source": [
    "coal.iloc[:, 1:].mean(axis=0).plot.bar(figsize=(15, 6), title=\"Yearly average electricity production from coal sources\", xlabel=\"Year\", ylabel=\"Mean electricity production from coal sources (% of total)\", grid=True)"
   ]
  },
  {
   "cell_type": "markdown",
   "id": "1f6b3802-4d08-455c-b284-275950897c5b",
   "metadata": {},
   "source": [
    "In the cell above, it can be easily observed that there has been a general increase in electricity production from solid fossil fuels, the trend which in recent years is seen to be flattening at about 14%.\n",
    "The highest contribution of coal sources for electricity production was about 14.4896% in the year 2007 (see next cell)."
   ]
  },
  {
   "cell_type": "code",
   "execution_count": 10,
   "id": "76d966fa-b23a-470e-970c-429b90894198",
   "metadata": {},
   "outputs": [
    {
     "name": "stdout",
     "output_type": "stream",
     "text": [
      "The maximum percentage of electricity production from coal sources was 14.4896%.\n"
     ]
    }
   ],
   "source": [
    "max_mean_value = np.round(coal.iloc[:, 1:].mean().max(), 4)\n",
    "\n",
    "print(f\"The maximum percentage of electricity production from coal sources was {max_mean_value}%.\")"
   ]
  }
 ],
 "metadata": {
  "kernelspec": {
   "display_name": "Python 3 (ipykernel)",
   "language": "python",
   "name": "python3"
  },
  "language_info": {
   "codemirror_mode": {
    "name": "ipython",
    "version": 3
   },
   "file_extension": ".py",
   "mimetype": "text/x-python",
   "name": "python",
   "nbconvert_exporter": "python",
   "pygments_lexer": "ipython3",
   "version": "3.9.6"
  }
 },
 "nbformat": 4,
 "nbformat_minor": 5
}
