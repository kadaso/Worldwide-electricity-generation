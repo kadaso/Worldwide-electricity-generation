{
 "cells": [
  {
   "cell_type": "markdown",
   "id": "6487091c-941b-492f-881d-a4287d367894",
   "metadata": {},
   "source": [
    "# Download datasets"
   ]
  },
  {
   "cell_type": "code",
   "execution_count": null,
   "id": "18cecd1f-7e47-4d89-8487-fed01d726374",
   "metadata": {},
   "outputs": [],
   "source": [
    "import os\n",
    "from urllib.request import urlretrieve"
   ]
  },
  {
   "cell_type": "code",
   "execution_count": null,
   "id": "344cd7c4-b684-4963-96a5-2854d38365c3",
   "metadata": {},
   "outputs": [],
   "source": [
    "cwd = os.getcwd()     # Current working directory\n",
    "print(f\"Your current working directory is: {cwd}\")"
   ]
  },
  {
   "cell_type": "code",
   "execution_count": null,
   "id": "d9de734f-c1ab-43cc-a7e9-d845a032038f",
   "metadata": {},
   "outputs": [],
   "source": [
    "# Create a folder \"Datasets\" in a parent directory for storing datasets\n",
    "os.mkdir(r\"..\\Datasets\")"
   ]
  },
  {
   "cell_type": "code",
   "execution_count": null,
   "id": "e97b7510-6ad9-4178-879d-e81258c0e052",
   "metadata": {},
   "outputs": [],
   "source": [
    "# Change current working directory to the \"Datasets\" directory, ready for downloading datasets\n",
    "os.chdir(r\"..\\Datasets\")\n",
    "\n",
    "datapath = os.getcwd()\n",
    "\n",
    "print(f\"Current working directory is: {datapath}\")"
   ]
  },
  {
   "cell_type": "markdown",
   "id": "ba79c511-eccf-4872-ba98-e04a23ffb3b8",
   "metadata": {},
   "source": [
    "In the next cell, datasets will be downloaded from the World Bank website to the Datasets directory."
   ]
  },
  {
   "cell_type": "code",
   "execution_count": null,
   "id": "e8c7bd15-7836-4699-86ac-f08b145ae593",
   "metadata": {},
   "outputs": [],
   "source": [
    "# Download roots\n",
    "hydro_link = \"https://api.worldbank.org/v2/en/indicator/EG.ELC.HYRO.ZS?downloadformat=csv\"         # Electricity generation from hydroelectric sources\n",
    "coal_link = \"https://api.worldbank.org/v2/en/indicator/EG.ELC.COAL.ZS?downloadformat=csv\"          # Electricity generation from coal\n",
    "nuclear_link = \"https://api.worldbank.org/v2/en/indicator/EG.ELC.NUCL.ZS?downloadformat=csv\"   # From nuclear sources\n",
    "nat_gas_link = \"https://api.worldbank.org/v2/en/indicator/EG.ELC.NGAS.ZS?downloadformat=csv\"    # From natiral gases\n",
    "oil_link = \"https://api.worldbank.org/v2/en/indicator/EG.ELC.PETR.ZS?downloadformat=csv\"       # From oil sources\n",
    "fossils_link = \"https://api.worldbank.org/v2/en/indicator/EG.ELC.FOSL.ZS?downloadformat=csv\"       # From oil, gas and coal sources\n",
    "renew_link = \"https://api.worldbank.org/v2/en/indicator/EG.ELC.RNWX.ZS?downloadformat=csv\"\n",
    "\n",
    "dwnld_root_list = [hydro_link, coal_link, nuclear_link, nat_gas_link, oil_link, fossils_link, renew_link]\n",
    "\n",
    "save_as = [\"hydro\", \"coal\", \"nuclear\", \"natural gas\", \"oil\", \"fossil fuels\", \"renewable\"]     # Names of downloaded files\n",
    "\n",
    "\n",
    "# Function to generate names of downloaded files\n",
    "def generate_filename(filename):\n",
    "    \"\"\"\n",
    "    Docstring: Generate names of downloaded files.\n",
    "    filename - List of strings containing desired names of downloaded files.\n",
    "    \n",
    "    Returns: List of strings containing generated files names.\n",
    "    \"\"\"\n",
    "    names_of_files = []\n",
    "    for item in filename:\n",
    "        file = datapath + \"\\\\\" + str(item) + \".zip\"     # Generating file names with the .zip extension in the Datasets folder\n",
    "        names_of_files.append(file)\n",
    "    return names_of_files\n",
    "\n",
    "\n",
    "# Function to download datasets\n",
    "def download_data(url, filename):\n",
    "    \"\"\"\n",
    "    Docstring: Download files.\n",
    "    url (string, list of strings) - Download path of a file.\n",
    "    filename (string, list of strings) - Name that a donwnloaded file will be saved as.\n",
    "    \n",
    "    Returns: None.\n",
    "    \"\"\"\n",
    "    num_dwnld_files = 0\n",
    "    for item, fname in zip(url, filename):\n",
    "        urlretrieve(item, fname)\n",
    "        num_dwnld_files += 1\n",
    "    print(f\"A total of {num_dwnld_files} files have been downloaded in the directory: {datapath}.\")\n",
    "        \n",
    "        \n",
    "# Generate names of files using a function generate_filename(), then, download the datasets using a function download_data()\n",
    "names_of_files = generate_filename(save_as)\n",
    "\n",
    "download_data(dwnld_root_list, names_of_files)"
   ]
  },
  {
   "cell_type": "markdown",
   "id": "065f7846-1840-4ae9-8e25-158b054044cd",
   "metadata": {},
   "source": [
    "The downloaded datasets can then be extracted manually in order to obtain \".csv\" files that will later be analyzed in this project.\n",
    "\n",
    "In this case, the corresponding CSV files were renamed to: *hydro*, *coal*, *nuclear*, *nat_gas*, *oil*, *fossil*, and *renewable*."
   ]
  }
 ],
 "metadata": {
  "kernelspec": {
   "display_name": "Python 3 (ipykernel)",
   "language": "python",
   "name": "python3"
  },
  "language_info": {
   "codemirror_mode": {
    "name": "ipython",
    "version": 3
   },
   "file_extension": ".py",
   "mimetype": "text/x-python",
   "name": "python",
   "nbconvert_exporter": "python",
   "pygments_lexer": "ipython3",
   "version": "3.10.1"
  }
 },
 "nbformat": 4,
 "nbformat_minor": 5
}
