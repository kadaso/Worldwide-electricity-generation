{
 "cells": [
  {
   "cell_type": "markdown",
   "id": "a1601433-d002-4980-8a3d-defdda62d622",
   "metadata": {},
   "source": [
    "# Introduction"
   ]
  },
  {
   "cell_type": "markdown",
   "id": "0f34fcc1-aaa5-49ed-8bc1-68b3d43fcf2e",
   "metadata": {},
   "source": [
    "Importing necesary libraries"
   ]
  },
  {
   "cell_type": "code",
   "execution_count": 1,
   "id": "7aa5db22-65c6-45d0-8452-09cb1023809f",
   "metadata": {},
   "outputs": [],
   "source": [
    "from urllib.request import urlretrieve                 # For downloading data\n",
    "import os\n",
    "import numpy as np\n",
    "import pandas as pd                                    # Crucial for data processing and analysis\n",
    "import matplotlib.pyplot as plt                        # For visualization of data"
   ]
  },
  {
   "cell_type": "markdown",
   "id": "834c3816-0e3b-438f-a316-d7f4ecff5d4e",
   "metadata": {},
   "source": [
    "# Downloading Data"
   ]
  },
  {
   "cell_type": "markdown",
   "id": "caa06613-e5db-42cc-8e95-caee56b3dba2",
   "metadata": {},
   "source": [
    "The worldwide data for electricity generation can be downloaded from the [The World Bank website](https://www.worldbank.org/en/home \"The World Bank\"). The data files that will be used in this project together with their download links are summarized in the next cell. Note that the download links direct to compressed (that is, \".zip\") files containing Comma-Separated Values (\".csv\") files; however, Excel (.xls or .xlsx) files are also available on the same website.\n",
    "\n",
    "Note that in this case, the download path where the data files will be saved has been specified based on my project structure. Feel free to modify the lines or break the lines in the cell to suit your needs."
   ]
  },
  {
   "cell_type": "code",
   "execution_count": 31,
   "id": "77d0116e-f394-4a75-876b-d056e5b3dd03",
   "metadata": {},
   "outputs": [
    {
     "name": "stdout",
     "output_type": "stream",
     "text": [
      "Report: A total of 7 files have been downloaded.\n"
     ]
    }
   ],
   "source": [
    "# Electricity generation data\n",
    "# Download links:\n",
    "hydro_link = \"https://api.worldbank.org/v2/en/indicator/EG.ELC.HYRO.ZS?downloadformat=csv\"         # Electricity generation from hydroelectric sources\n",
    "coal_link = \"https://api.worldbank.org/v2/en/indicator/EG.ELC.COAL.ZS?downloadformat=csv\"          # Electricity generation from coal\n",
    "nuclear_src_link = \"https://api.worldbank.org/v2/en/indicator/EG.ELC.NUCL.ZS?downloadformat=csv\"   # From nuclear sources\n",
    "natGas_src_link = \"https://api.worldbank.org/v2/en/indicator/EG.ELC.NGAS.ZS?downloadformat=csv\"    # From natiral gases\n",
    "oil_src_link = \"https://api.worldbank.org/v2/en/indicator/EG.ELC.PETR.ZS?downloadformat=csv\"       # From oil sources\n",
    "fossils_link = \"https://api.worldbank.org/v2/en/indicator/EG.ELC.FOSL.ZS?downloadformat=csv\"       # From oil, gas and coal sources\n",
    "renew_src_link = \"https://api.worldbank.org/v2/en/indicator/EG.ELC.RNWX.ZS?downloadformat=csv\"     # From renewable sources (excluding hydroelectric source)\n",
    "\n",
    "download_links = [hydro_link, coal_link, nuclear_src_link, natGas_src_link, oil_src_link, fossils_link, renew_src_link]     # A list containing summary of download links\n",
    "\n",
    "files_names = [\"hydroelectric\", \"coal\", \"nuclear\", \"natural gas\", \"oil\", \"fossils\", \"renewable sources\"]     # A list containing (saving) names of files\n",
    "\n",
    "save_path = \"D:\\Coding\\Projects\\Worldwide electricity generation\\Data\"\n",
    "\n",
    "\n",
    "# Function to generate save names of files that will be downloaded from the World Bank website\n",
    "def generate_files_names(save_path, list_of_names):\n",
    "    \"\"\"\n",
    "    Generates desired names of files that will be downloaded\n",
    "    \"\"\"\n",
    "    fnames_output = []\n",
    "    for item in list_of_names:\n",
    "        filename = save_path + \"\\\\\" + str(item) + \".zip\"     # The World Bank files are provided in a .zip format\n",
    "        fnames_output.append(filename)\n",
    "    return fnames_output                                  # A complete file path with file name is returned in a list\n",
    "\n",
    "\n",
    "# Download the data files using the above links (i.e., download_links)\n",
    "\n",
    "def download_files(list_of_urls):\n",
    "    \"\"\"\n",
    "    Docstring:\n",
    "    A function to download multiple files from a website.\n",
    "    -----------------------------------------------------\n",
    "    list_of_urls: list; a list variable containing url paths from which data files will be downloaded.\n",
    "    path: string; path to which downloaded files will be saved.    \n",
    "    \"\"\"\n",
    "    \n",
    "    # Generate save names of files using a function generate_files_names() using variables \"save_path\" and \"files_names\" as keywords\n",
    "    fnames_output = generate_files_names(save_path, files_names)\n",
    "    \n",
    "    num_of_downloaded_files = 0\n",
    "    for url, filename in zip(list_of_urls, fnames_output):\n",
    "        urlretrieve(url, filename)\n",
    "        num_of_downloaded_files += 1\n",
    "    print(f\"Report: A total of {num_of_downloaded_files} files have been downloaded.\")\n",
    "    \n",
    "download_files(download_links)"
   ]
  }
 ],
 "metadata": {
  "kernelspec": {
   "display_name": "Python 3 (ipykernel)",
   "language": "python",
   "name": "python3"
  },
  "language_info": {
   "codemirror_mode": {
    "name": "ipython",
    "version": 3
   },
   "file_extension": ".py",
   "mimetype": "text/x-python",
   "name": "python",
   "nbconvert_exporter": "python",
   "pygments_lexer": "ipython3",
   "version": "3.9.6"
  }
 },
 "nbformat": 4,
 "nbformat_minor": 5
}
